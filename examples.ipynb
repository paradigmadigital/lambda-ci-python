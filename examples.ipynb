{
 "cells": [
  {
   "cell_type": "markdown",
   "metadata": {
    "slideshow": {
     "slide_type": "slide"
    }
   },
   "source": [
    "# Paso 0 - Instalar dependencias\n",
    "\n",
    "Antes de empezar a trabajar con AWS Lambda, necesitamos configurar una cuenta de AWS\n",
    "\n",
    "```bash\n",
    "\n",
    "$ mkdir ~/.aws\n",
    "$ cat >> ~/.aws/credentials\n",
    "[default]\n",
    "aws_access_key_id=YOUR_ACCESS_KEY_HERE\n",
    "aws_secret_access_key=YOUR_SECRET_ACCESS_KEY\n",
    "region=YOUR_REGION (such as us-west-2, us-west-1, etc)\n",
    "```\n"
   ]
  },
  {
   "cell_type": "code",
   "execution_count": null,
   "metadata": {
    "collapsed": true,
    "slideshow": {
     "slide_type": "fragment"
    }
   },
   "outputs": [],
   "source": [
    "client.create_alias(\n",
    "    FunctionName='LambdaExample1',\n",
    "    Name='DEV',\n",
    "    FunctionVersion='$LATEST',\n",
    "    Description='DEV alias of LambdaExample1'\n",
    ")"
   ]
  },
  {
   "cell_type": "markdown",
   "metadata": {
    "slideshow": {
     "slide_type": "slide"
    }
   },
   "source": [
    "# Paso 1 - Ejemplos Integración"
   ]
  },
  {
   "cell_type": "markdown",
   "metadata": {
    "slideshow": {
     "slide_type": "slide"
    }
   },
   "source": [
    "## 1.1 - Ejemplo básico usando boto3\n",
    "\n",
    "Usando la librería de boto3 podemos desplegar una función simple con este script:"
   ]
  },
  {
   "cell_type": "code",
   "execution_count": 1,
   "metadata": {
    "slideshow": {
     "slide_type": "fragment"
    }
   },
   "outputs": [
    {
     "data": {
      "text/plain": [
       "{'CodeSha256': 'm3Spw2Db5E6taeL+gqlCUvv4JlLs3jPiPewvCtkFbjQ=',\n",
       " 'CodeSize': 1635,\n",
       " 'Description': 'Ejemplo básico de AWS Lambda',\n",
       " 'FunctionArn': 'arn:aws:lambda:eu-west-1:016081714405:function:ejemplo_lambda_simple',\n",
       " 'FunctionName': 'ejemplo_lambda_simple',\n",
       " 'Handler': 'myexamplelambdaproject.lambda1.main.my_handler',\n",
       " 'LastModified': '2017-07-31T06:36:39.314+0000',\n",
       " 'MemorySize': 128,\n",
       " 'ResponseMetadata': {'HTTPHeaders': {'connection': 'keep-alive',\n",
       "   'content-length': '640',\n",
       "   'content-type': 'application/json',\n",
       "   'date': 'Mon, 31 Jul 2017 06:36:39 GMT',\n",
       "   'x-amzn-requestid': '9b80b688-75ba-11e7-8397-fda84bb378f7'},\n",
       "  'HTTPStatusCode': 201,\n",
       "  'RequestId': '9b80b688-75ba-11e7-8397-fda84bb378f7',\n",
       "  'RetryAttempts': 0},\n",
       " 'Role': 'arn:aws:iam::016081714405:role/service-role/LambdaTest',\n",
       " 'Runtime': 'python3.6',\n",
       " 'Timeout': 3,\n",
       " 'TracingConfig': {'Mode': 'PassThrough'},\n",
       " 'Version': '$LATEST'}"
      ]
     },
     "execution_count": 1,
     "metadata": {},
     "output_type": "execute_result"
    }
   ],
   "source": [
    "import boto3\n",
    "\n",
    "\n",
    "client = boto3.client(\"lambda\")\n",
    "\n",
    "client.create_function(\n",
    "    FunctionName='ejemplo_lambda_simple',\n",
    "    Role='arn:aws:iam::016081714405:role/service-role/LambdaTest',\n",
    "    Description='Ejemplo básico de AWS Lambda',\n",
    "    Runtime='python3.6',\n",
    "    Handler='myexamplelambdaproject.lambda1.main.my_handler',\n",
    "    Code={\n",
    "        'S3Bucket': 'lambdartefacts',\n",
    "        'S3Key': 'myexamplelambdaproject.zip',\n",
    "    },\n",
    ")"
   ]
  },
  {
   "cell_type": "markdown",
   "metadata": {
    "slideshow": {
     "slide_type": "slide"
    }
   },
   "source": [
    "## 1.2 - Alias\n",
    "\n",
    "La única forma para trabajar con versiones y alias en AWS Lambda, por el momento, es a través de la API de AWS.\n",
    "Crearemos una versión suponiendo un alias para cada entorno de desarrollo"
   ]
  },
  {
   "cell_type": "code",
   "execution_count": 4,
   "metadata": {
    "slideshow": {
     "slide_type": "subslide"
    }
   },
   "outputs": [
    {
     "data": {
      "text/plain": [
       "{'AliasArn': 'arn:aws:lambda:eu-west-1:016081714405:function:ejemplo_lambda_simple:Testing',\n",
       " 'Description': 'DEV alias of ejemplo_lambda_simple',\n",
       " 'FunctionVersion': '$LATEST',\n",
       " 'Name': 'Testing',\n",
       " 'ResponseMetadata': {'HTTPHeaders': {'connection': 'keep-alive',\n",
       "   'content-length': '187',\n",
       "   'content-type': 'application/json',\n",
       "   'date': 'Mon, 31 Jul 2017 06:37:15 GMT',\n",
       "   'x-amzn-requestid': 'b12ea359-75ba-11e7-b0f8-cf7e2ee4d438'},\n",
       "  'HTTPStatusCode': 201,\n",
       "  'RequestId': 'b12ea359-75ba-11e7-b0f8-cf7e2ee4d438',\n",
       "  'RetryAttempts': 0}}"
      ]
     },
     "execution_count": 4,
     "metadata": {},
     "output_type": "execute_result"
    }
   ],
   "source": [
    "client.create_alias(\n",
    "    FunctionName='ejemplo_lambda_simple',\n",
    "    Name='Testing',\n",
    "    FunctionVersion='$LATEST',\n",
    "    Description='DEV alias of ejemplo_lambda_simple'\n",
    ")"
   ]
  },
  {
   "cell_type": "markdown",
   "metadata": {
    "slideshow": {
     "slide_type": "slide"
    }
   },
   "source": [
    "Verificamos que todo se ha creado correctamente desde la consola de AWS o con este método:"
   ]
  },
  {
   "cell_type": "code",
   "execution_count": null,
   "metadata": {
    "collapsed": true,
    "slideshow": {
     "slide_type": "fragment"
    }
   },
   "outputs": [],
   "source": [
    "client.list_aliases(\n",
    "    FunctionName='ejemplo_lambda_simple',\n",
    ")\n"
   ]
  },
  {
   "cell_type": "markdown",
   "metadata": {
    "slideshow": {
     "slide_type": "slide"
    }
   },
   "source": [
    "## 1.3 - Version\n",
    "\n",
    "Creamos una nueva versión y la asociamos a nuestros Alias:"
   ]
  },
  {
   "cell_type": "code",
   "execution_count": null,
   "metadata": {
    "collapsed": true,
    "slideshow": {
     "slide_type": "subslide"
    }
   },
   "outputs": [],
   "source": [
    "client.publish_version(\n",
    "    FunctionName='ejemplo_lambda_simple',\n",
    ")\n",
    "client.update_alias(\n",
    "    FunctionName='ejemplo_lambda_simple',\n",
    "    Name='DEV',\n",
    "    FunctionVersion='1', # Versión a la que queremos asociarla\n",
    "    Description='PRE alias of ejemplo_lambda_simple'\n",
    ") "
   ]
  },
  {
   "cell_type": "markdown",
   "metadata": {
    "slideshow": {
     "slide_type": "slide"
    }
   },
   "source": [
    "## 1.4 - Triggers\n",
    "\n",
    "Los triggers son los eventos que hacen que se ejecuten las funciones de AWS Lambda. Por desgracia, la API de AWS Lambda no tiene implementado la creación de los eventos. Para poder crearlos de manera programática, nos tendremos que apoyar en las APIS de otros servicios como S3, Cloudwatch, SNS...\n",
    "\n",
    "En este caso, nos apoyaremos en otra librería para poder desplegar estos eventos.\n",
    "\n",
    "**importante:** Si manejamos los eventos por API, estos no aparecerán en la pestaña de \"Triggers\" de la consola de AWS."
   ]
  },
  {
   "cell_type": "code",
   "execution_count": 3,
   "metadata": {
    "slideshow": {
     "slide_type": "fragment"
    }
   },
   "outputs": [
    {
     "name": "stdout",
     "output_type": "stream",
     "text": [
      "1.1-simple\n",
      "1.3-triggers\n",
      "2.1-testing\n",
      "examples.ipynb\n",
      "README.rst\n",
      "requirements.txt\n",
      "venv\n"
     ]
    }
   ],
   "source": [
    "%%bash\n",
    "cd 1.4-triggers/\n",
    "ardy -p myexamplelambdaproject deploy"
   ]
  },
  {
   "cell_type": "markdown",
   "metadata": {
    "slideshow": {
     "slide_type": "slide"
    }
   },
   "source": [
    "## 1.5 - Api Gateway"
   ]
  },
  {
   "cell_type": "markdown",
   "metadata": {
    "slideshow": {
     "slide_type": "fragment"
    }
   },
   "source": [
    "Ver en consola\n"
   ]
  },
  {
   "cell_type": "markdown",
   "metadata": {
    "slideshow": {
     "slide_type": "slide"
    }
   },
   "source": [
    "# 2 - Ejemplos CI y Testing\n",
    "\n",
    "![Jenkins 1](statics/img/jenkins01.png \"Jenkins 1\")"
   ]
  },
  {
   "cell_type": "markdown",
   "metadata": {
    "slideshow": {
     "slide_type": "slide"
    }
   },
   "source": [
    "## 2.1 Virtual Machine\n",
    "\n",
    "Para llevar nuestra Integración Continua, utilizaremos Jenkins con el módulo de pipeline.\n",
    "\n",
    "Para crear un entorno lo más parecido a producción y trabajar con Jenkins, utilizaremos [Vagrant](https://www.vagrantup.com) para crear una máquina virtual y [Ansible](https://www.ansible.com) para provisionar la VM.\n",
    "\n"
   ]
  },
  {
   "cell_type": "code",
   "execution_count": 1,
   "metadata": {
    "slideshow": {
     "slide_type": "fragment"
    }
   },
   "outputs": [
    {
     "name": "stdout",
     "output_type": "stream",
     "text": [
      "Bringing machine 'default' up with 'virtualbox' provider...\n",
      "==> default: Importing base box 'centos/7'...\n",
      "\r",
      "\u001b[KProgress: 20%\r",
      "\u001b[KProgress: 40%\r",
      "\u001b[KProgress: 50%\r",
      "\u001b[KProgress: 70%\r",
      "\u001b[KProgress: 90%\r",
      "\u001b[K==> default: Matching MAC address for NAT networking...\n",
      "==> default: Checking if box 'centos/7' is up to date...\n",
      "==> default: Setting the name of the VM: 21-testing_default_1499973967796_7811\n",
      "==> default: Clearing any previously set network interfaces...\n",
      "==> default: Preparing network interfaces based on configuration...\n",
      "    default: Adapter 1: nat\n",
      "    default: Adapter 2: hostonly\n",
      "==> default: Forwarding ports...\n",
      "    default: 22 (guest) => 2222 (host) (adapter 1)\n",
      "==> default: Booting VM...\n",
      "==> default: Waiting for machine to boot. This may take a few minutes...\n",
      "    default: SSH address: 127.0.0.1:2222\n",
      "    default: SSH username: vagrant\n",
      "    default: SSH auth method: private key\n",
      "    default: \n",
      "    default: Vagrant insecure key detected. Vagrant will automatically replace\n",
      "    default: this with a newly generated keypair for better security.\n",
      "    default: \n",
      "    default: Inserting generated public key within guest...\n",
      "    default: Removing insecure key from the guest if it's present...\n",
      "    default: Key inserted! Disconnecting and reconnecting using new SSH key...\n",
      "==> default: Machine booted and ready!\n",
      "==> default: Checking for guest additions in VM...\n",
      "    default: No guest additions were detected on the base box for this VM! Guest\n",
      "    default: additions are required for forwarded ports, shared folders, host only\n",
      "    default: networking, and more. If SSH fails on this machine, please install\n",
      "    default: the guest additions and repackage the box to continue.\n",
      "    default: \n",
      "    default: This is not an error message; everything may continue to work properly,\n",
      "    default: in which case you may ignore this message.\n",
      "==> default: Configuring and enabling network interfaces...\n",
      "==> default: Rsyncing folder: /home/albertovara/meetups/python_lambda_ci/2.1-testing/ => /vagrant\n",
      "==> default: Running provisioner: ansible...\n",
      "    default: Running ansible-playbook...\n",
      "\n",
      "PLAY [Install basic software] **************************************************\n",
      "\n",
      "TASK [Gathering Facts] *********************************************************\n",
      "ok: [default]\n",
      "\n",
      "TASK [install Git] *************************************************************\n",
      "changed: [default] => (item=['git'])\n",
      "\n",
      "PLAY [Install python dependencies] *********************************************\n",
      "\n",
      "TASK [Gathering Facts] *********************************************************\n",
      "ok: [default]\n",
      "\n",
      "TASK [Download pip] ************************************************************\n",
      "changed: [default]\n",
      "\n",
      "TASK [Install pip] *************************************************************\n",
      "changed: [default]\n",
      "\n",
      "TASK [Install AWS Cli & virtualenv] ********************************************\n",
      "changed: [default] => (item=virtualenv)\n",
      "changed: [default] => (item=awscli)\n",
      "\n",
      "PLAY [Install jenkins dependencies] ********************************************\n",
      "\n",
      "TASK [Gathering Facts] *********************************************************\n",
      "ok: [default]\n",
      "\n",
      "TASK [install jdk rpm] *********************************************************\n",
      "changed: [default] => (item=['java-1.8.0-openjdk', 'wget'])\n",
      "\n",
      "TASK [add Jenkins to yum] ******************************************************\n",
      " [WARNING]: Consider using get_url or uri module rather than running wget\n",
      "changed: [default]\n",
      "\n",
      "TASK [add jenkins key] *********************************************************\n",
      " [WARNING]: Consider using yum, dnf or zypper module rather than running rpm\n",
      "changed: [default]\n",
      "\n",
      "TASK [install jenkins rpm] *****************************************************\n",
      "changed: [default]\n",
      "\n",
      "PLAY [start Jenkins] ***********************************************************\n",
      "\n",
      "TASK [Gathering Facts] *********************************************************\n",
      "ok: [default]\n",
      "\n",
      "TASK [start Jenkins] ***********************************************************\n",
      " [WARNING]: Consider using service module rather than running service\n",
      "changed: [default]\n",
      "\n",
      "PLAY RECAP *********************************************************************\n",
      "default                    : ok=13   changed=9    unreachable=0    failed=0   \n",
      "\n"
     ]
    }
   ],
   "source": [
    "\n",
    "%%bash\n",
    "\n",
    "cd 2.1-testing\n",
    "# vagrant up\n",
    "# vagrant ssh"
   ]
  },
  {
   "cell_type": "markdown",
   "metadata": {
    "slideshow": {
     "slide_type": "slide"
    }
   },
   "source": [
    "## 2.2 Jenkins y CI\n",
    "\n",
    "- Podremos acceder a Jenkins en:\n",
    "http://192.168.100.3:8080/\n",
    "\n",
    "- Plugins necesarios:\n",
    "https://wiki.jenkins.io/display/JENKINS/HTML+Publisher+Plugin\n",
    "\n",
    "- Crear credenciales:\n",
    "http://192.168.100.3:8080/credentials/\n",
    "![Jenkins 3](statics/img/jenkins03.png \"Jenkins 3\")\n",
    "\n",
    "\n",
    "- Crear proyecto: http://192.168.100.3:8080/view/all/newJob\n",
    "![Jenkins 2](statics/img/jenkins02.png \"Jenkins 2\")\n",
    "\n",
    "\n",
    "- Añadir este script en el Pipeline de proyecto:\n"
   ]
  },
  {
   "cell_type": "markdown",
   "metadata": {
    "slideshow": {
     "slide_type": "subslide"
    }
   },
   "source": [
    "```groovy\n",
    "\n",
    "node{\n",
    "    stage(\"Commit Stage\") {\n",
    "        git([url: \"https://github.com/avara1986/aws-lambda-python-ci.git\", branch: \"master\"])\n",
    "    }\n",
    "    stage(\"Build Stage\") {\n",
    "        withCredentials([usernamePassword(credentialsId: \"aws\", passwordVariable: \"AWS_SECRET_ACCESS_KEY\", usernameVariable: \"AWS_ACCESS_KEY_ID\")]) {\n",
    "            sh \"aws configure set aws_access_key_id ${AWS_ACCESS_KEY_ID}\"\n",
    "            sh \"aws configure set aws_secret_access_key ${AWS_SECRET_ACCESS_KEY}\"\n",
    "            sh \"aws configure set region eu-west-1\"\n",
    "            sh \"aws configure set output json\"\n",
    "        }\n",
    "        env.WORKSPACE = pwd()\n",
    "        sh \"virtualenv --python=/usr/local/bin/python3.6 venv\"\n",
    "        env.PATH=\"${env.WORKSPACE}/venv/bin:/usr/bin:${env.PATH}\"\n",
    "        sh \"pip install -r requirements-test.txt\"\n",
    "    }\n",
    "    stage(\"Test Stage\") {\n",
    "        sh script: \"./tests.sh\"\n",
    "    }\n",
    "    stage(\"Deploy Stage\") {\n",
    "        withCredentials([usernamePassword(credentialsId: \"aws\", passwordVariable: \"AWS_SECRET_ACCESS_KEY\", usernameVariable: \"AWS_ACCESS_KEY_ID\")]) {\n",
    "            sh \"ardy -p myexamplelambdaproject deploy\"\n",
    "        }\n",
    "        \n",
    "    }\n",
    "    stage(\"Coverage&amp;Sonar Stage\") {\n",
    "        publishHTML([allowMissing: false, alwaysLinkToLastBuild: false, keepAll: false, reportDir: \"htmlcov\", reportFiles: \"index.html\", reportName: \"HTML Report\"])\n",
    "    }\n",
    "}\n",
    "```"
   ]
  }
 ],
 "metadata": {
  "celltoolbar": "Slideshow",
  "kernelspec": {
   "display_name": "Python 3",
   "language": "python",
   "name": "python3"
  },
  "language_info": {
   "codemirror_mode": {
    "name": "ipython",
    "version": 3
   },
   "file_extension": ".py",
   "mimetype": "text/x-python",
   "name": "python",
   "nbconvert_exporter": "python",
   "pygments_lexer": "ipython3",
   "version": "3.6.1+"
  }
 },
 "nbformat": 4,
 "nbformat_minor": 2
}
